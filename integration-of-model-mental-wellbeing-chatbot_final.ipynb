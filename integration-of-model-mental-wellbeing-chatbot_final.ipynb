{
 "cells": [
  {
   "cell_type": "code",
   "execution_count": 1,
   "id": "33f20c06",
   "metadata": {
    "_cell_guid": "b1076dfc-b9ad-4769-8c92-a6c4dae69d19",
    "_uuid": "8f2839f25d086af736a60e9eeb907d3b93b6e0e5",
    "execution": {
     "iopub.execute_input": "2025-01-18T15:11:30.236430Z",
     "iopub.status.busy": "2025-01-18T15:11:30.235945Z",
     "iopub.status.idle": "2025-01-18T15:11:31.295176Z",
     "shell.execute_reply": "2025-01-18T15:11:31.294122Z"
    },
    "papermill": {
     "duration": 1.066255,
     "end_time": "2025-01-18T15:11:31.297165",
     "exception": false,
     "start_time": "2025-01-18T15:11:30.230910",
     "status": "completed"
    },
    "tags": []
   },
   "outputs": [
    {
     "name": "stdout",
     "output_type": "stream",
     "text": [
      "/kaggle/input/preprocessed-data/p_suicide_data_input3_90k.csv\n",
      "/kaggle/input/preprocessed-data/p_data_input2_150k.csv\n",
      "/kaggle/input/preprocessed-data/p_data_100k_stop.csv\n",
      "/kaggle/input/preprocessed-data/p_data_input3_211k.csv\n",
      "/kaggle/input/preprocessed-data/p_data_full_stop.csv\n",
      "/kaggle/input/preprocessed-data/p_suicide_data_input.csv\n",
      "/kaggle/input/preprocessed-data/p_suicide_data_30k_stop.csv\n",
      "/kaggle/input/mental-wellbeing-chatbot/scikitlearn/default/1/stacking_emotion_classifier.pkl\n",
      "/kaggle/input/mental-wellbeing-chatbot/scikitlearn/default/1/scaler.pkl\n",
      "/kaggle/input/mental-wellbeing-chatbot/scikitlearn/default/1/RandomForestClassifier_suicide_model.pkl\n",
      "/kaggle/input/mental-wellbeing-chatbot/scikitlearn/default/1/word2vec_model.bin\n",
      "/kaggle/input/mental-wellbeing-chatbot/scikitlearn/default/2/stacking_emotion_classifier.pkl\n",
      "/kaggle/input/mental-wellbeing-chatbot/scikitlearn/default/2/scaler.pkl\n",
      "/kaggle/input/mental-wellbeing-chatbot/scikitlearn/default/2/RandomForestClassifier_suicide_model.pkl\n",
      "/kaggle/input/mental-wellbeing-chatbot/scikitlearn/default/2/word2vec_model.bin\n",
      "/kaggle/input/mental-wellbeing-chatbot/scikitlearn/default/2/GoogleNews-vectors-negative300.bin/GoogleNews-vectors-negative300.bin\n",
      "/kaggle/input/mental-wellbeing-chatbot/scikitlearn/default/3/emotion_model.pkl\n",
      "/kaggle/input/mental-wellbeing-chatbot/scikitlearn/default/3/suicide_model.pkl\n",
      "/kaggle/input/mental-wellbeing-chatbot/scikitlearn/default/3/GoogleNews-vectors-negative300.bin/GoogleNews-vectors-negative300.bin\n"
     ]
    }
   ],
   "source": [
    "# This Python 3 environment comes with many helpful analytics libraries installed\n",
    "# It is defined by the kaggle/python Docker image: https://github.com/kaggle/docker-python\n",
    "# For example, here's several helpful packages to load\n",
    "\n",
    "import numpy as np # linear algebra\n",
    "import pandas as pd # data processing, CSV file I/O (e.g. pd.read_csv)\n",
    "\n",
    "# Input data files are available in the read-only \"../input/\" directory\n",
    "# For example, running this (by clicking run or pressing Shift+Enter) will list all files under the input directory\n",
    "\n",
    "import os\n",
    "for dirname, _, filenames in os.walk('/kaggle/input'):\n",
    "    for filename in filenames:\n",
    "        print(os.path.join(dirname, filename))\n",
    "\n",
    "# You can write up to 20GB to the current directory (/kaggle/working/) that gets preserved as output when you create a version using \"Save & Run All\" \n",
    "# You can also write temporary files to /kaggle/temp/, but they won't be saved outside of the current session"
   ]
  },
  {
   "cell_type": "code",
   "execution_count": 2,
   "id": "61ee2283",
   "metadata": {
    "execution": {
     "iopub.execute_input": "2025-01-18T15:11:31.306737Z",
     "iopub.status.busy": "2025-01-18T15:11:31.306251Z",
     "iopub.status.idle": "2025-01-18T15:11:40.688910Z",
     "shell.execute_reply": "2025-01-18T15:11:40.688023Z"
    },
    "papermill": {
     "duration": 9.388613,
     "end_time": "2025-01-18T15:11:40.690646",
     "exception": false,
     "start_time": "2025-01-18T15:11:31.302033",
     "status": "completed"
    },
    "tags": []
   },
   "outputs": [],
   "source": [
    "import pickle\n",
    "import spacy\n",
    "import nltk\n",
    "from nltk.stem import PorterStemmer\n",
    "import numpy as np\n",
    "import pandas as pd\n",
    "import spacy\n"
   ]
  },
  {
   "cell_type": "code",
   "execution_count": 3,
   "id": "378a4688",
   "metadata": {
    "execution": {
     "iopub.execute_input": "2025-01-18T15:11:40.698740Z",
     "iopub.status.busy": "2025-01-18T15:11:40.698185Z",
     "iopub.status.idle": "2025-01-18T15:11:41.992917Z",
     "shell.execute_reply": "2025-01-18T15:11:41.991662Z"
    },
    "papermill": {
     "duration": 1.300465,
     "end_time": "2025-01-18T15:11:41.994646",
     "exception": false,
     "start_time": "2025-01-18T15:11:40.694181",
     "status": "completed"
    },
    "tags": []
   },
   "outputs": [
    {
     "name": "stdout",
     "output_type": "stream",
     "text": [
      "[nltk_data] Downloading package punkt to /usr/share/nltk_data...\n",
      "[nltk_data]   Package punkt is already up-to-date!\n"
     ]
    }
   ],
   "source": [
    "nlp = spacy.load(\"en_core_web_sm\")\n",
    "nltk.download(\"punkt\")\n",
    "\n",
    "stemmer = PorterStemmer()"
   ]
  },
  {
   "cell_type": "code",
   "execution_count": 4,
   "id": "a6308bc9",
   "metadata": {
    "execution": {
     "iopub.execute_input": "2025-01-18T15:11:42.002394Z",
     "iopub.status.busy": "2025-01-18T15:11:42.002070Z",
     "iopub.status.idle": "2025-01-18T15:12:53.657370Z",
     "shell.execute_reply": "2025-01-18T15:12:53.656093Z"
    },
    "papermill": {
     "duration": 71.661446,
     "end_time": "2025-01-18T15:12:53.659608",
     "exception": false,
     "start_time": "2025-01-18T15:11:41.998162",
     "status": "completed"
    },
    "tags": []
   },
   "outputs": [],
   "source": [
    "from gensim.models import KeyedVectors\n",
    "\n",
    "model = KeyedVectors.load_word2vec_format(\"/kaggle/input/mental-wellbeing-chatbot/scikitlearn/default/3/GoogleNews-vectors-negative300.bin/GoogleNews-vectors-negative300.bin\", binary=True)\n",
    "\n"
   ]
  },
  {
   "cell_type": "code",
   "execution_count": 5,
   "id": "12a5c943",
   "metadata": {
    "execution": {
     "iopub.execute_input": "2025-01-18T15:12:53.668343Z",
     "iopub.status.busy": "2025-01-18T15:12:53.667999Z",
     "iopub.status.idle": "2025-01-18T15:12:55.835822Z",
     "shell.execute_reply": "2025-01-18T15:12:55.834690Z"
    },
    "papermill": {
     "duration": 2.173986,
     "end_time": "2025-01-18T15:12:55.837698",
     "exception": false,
     "start_time": "2025-01-18T15:12:53.663712",
     "status": "completed"
    },
    "tags": []
   },
   "outputs": [],
   "source": [
    "with open(\"/kaggle/input/mental-wellbeing-chatbot/scikitlearn/default/3/emotion_model.pkl\", \"rb\") as file:\n",
    "    emotion_model = pickle.load(file)\n",
    "\n",
    "with open(\"/kaggle/input/mental-wellbeing-chatbot/scikitlearn/default/3/suicide_model.pkl\", \"rb\") as file:\n",
    "    suicide_model = pickle.load(file)"
   ]
  },
  {
   "cell_type": "code",
   "execution_count": 6,
   "id": "fc9f0afd",
   "metadata": {
    "execution": {
     "iopub.execute_input": "2025-01-18T15:12:55.845671Z",
     "iopub.status.busy": "2025-01-18T15:12:55.845346Z",
     "iopub.status.idle": "2025-01-18T15:12:55.850917Z",
     "shell.execute_reply": "2025-01-18T15:12:55.849962Z"
    },
    "papermill": {
     "duration": 0.011979,
     "end_time": "2025-01-18T15:12:55.853255",
     "exception": false,
     "start_time": "2025-01-18T15:12:55.841276",
     "status": "completed"
    },
    "tags": []
   },
   "outputs": [],
   "source": [
    "def preprocess_tokens(text):\n",
    "    doc = nlp(text)\n",
    "    tokens = []\n",
    "    for token in doc:\n",
    "        if not token.is_punct:\n",
    "            lemmatized_token = token.lemma_\n",
    "            tokens.append(lemmatized_token) \n",
    "    return tokens\n",
    "\n",
    "def vectorize(tokens, model):\n",
    "    word_vectors = []\n",
    "    for word in tokens:\n",
    "        if word in model:\n",
    "            word_vectors.append(model[word])\n",
    "    if word_vectors:\n",
    "        return np.mean(word_vectors, axis=0)\n",
    "    else:\n",
    "        return np.zeros(model.vector_size)\n"
   ]
  },
  {
   "cell_type": "code",
   "execution_count": 7,
   "id": "348ac1a5",
   "metadata": {
    "execution": {
     "iopub.execute_input": "2025-01-18T15:12:55.862094Z",
     "iopub.status.busy": "2025-01-18T15:12:55.861765Z",
     "iopub.status.idle": "2025-01-18T15:12:55.865931Z",
     "shell.execute_reply": "2025-01-18T15:12:55.865027Z"
    },
    "papermill": {
     "duration": 0.009802,
     "end_time": "2025-01-18T15:12:55.867492",
     "exception": false,
     "start_time": "2025-01-18T15:12:55.857690",
     "status": "completed"
    },
    "tags": []
   },
   "outputs": [],
   "source": [
    "emotion_to_int = {\n",
    "    \"happiness\": 1,\n",
    "    \"love\": 2,\n",
    "    \"neutral\": 3,\n",
    "    \"sadness\": 4,\n",
    "    \"anger\": 5,\n",
    "    \"fear/anxiety\": 6\n",
    "}"
   ]
  },
  {
   "cell_type": "code",
   "execution_count": 8,
   "id": "fd984583",
   "metadata": {
    "execution": {
     "iopub.execute_input": "2025-01-18T15:12:55.875063Z",
     "iopub.status.busy": "2025-01-18T15:12:55.874764Z",
     "iopub.status.idle": "2025-01-18T15:12:55.879770Z",
     "shell.execute_reply": "2025-01-18T15:12:55.878942Z"
    },
    "papermill": {
     "duration": 0.010558,
     "end_time": "2025-01-18T15:12:55.881318",
     "exception": false,
     "start_time": "2025-01-18T15:12:55.870760",
     "status": "completed"
    },
    "tags": []
   },
   "outputs": [],
   "source": [
    "int_to_emotion = {v: k for k, v in emotion_to_int.items()}\n",
    "\n",
    "wellbeing_messages = {\n",
    "    \"happiness\": (\n",
    "        \"When you're feeling happy, remember to share that joy with others. \"\n",
    "        \"A genuine smile or a kind word can spread positivity all around you.\\n\"\n",
    "        \"Quote: “Happiness is not something ready-made. It comes from your own actions.” — Dalai Lama\"\n",
    "    ),\n",
    "    \"love\": (\n",
    "        \"Love is a powerful bond—nurture it by showing appreciation and kindness to those around you. \"\n",
    "        \"Don’t forget to practice self-love, too!\\n\"\n",
    "        \"Quote: “Love recognizes no barriers. It jumps hurdles, leaps fences, \"\n",
    "        \"penetrates walls to arrive at its destination full of hope.” — Maya Angelou\"\n",
    "    ),\n",
    "    \"neutral\": (\n",
    "        \"Feeling neutral is a chance to reflect and recharge. \"\n",
    "        \"Take a moment to practice mindfulness—focus on your breath or surroundings.\\n\"\n",
    "        \"Quote: “Calmness is the cradle of power.” — J.G. Holland\"\n",
    "    ),\n",
    "    \"sadness\": (\n",
    "        \"It’s okay to feel sad sometimes; allow yourself to process these emotions and reach out if you need support. \"\n",
    "        \"Talking with a friend or writing in a journal can help.\\n\"\n",
    "        \"Quote: “Tears are words that need to be written.” — Paulo Coelho\"\n",
    "    ),\n",
    "    \"anger\": (\n",
    "        \"Anger can be overwhelming. Try pausing to take a few deep breaths or stepping away for a moment. \"\n",
    "        \"Finding healthy outlets—like exercise or journaling—can be very helpful.\\n\"\n",
    "        \"Quote: “Anger, if not restrained, is frequently more hurtful to us than the injury that provokes it.” — Seneca\"\n",
    "    ),\n",
    "    \"fear/anxiety\": (\n",
    "        \"Anxiety can feel consuming. Practice grounding techniques—notice what you can see, hear, and feel around you. \"\n",
    "        \"Remind yourself that you’ve overcome difficult moments before.\\n\"\n",
    "        \"Quote: “You don’t have to control your thoughts; you just have to stop letting them control you.” — Dan Millman\"\n",
    "    )\n",
    "}\n"
   ]
  },
  {
   "cell_type": "code",
   "execution_count": 9,
   "id": "a3154bea",
   "metadata": {
    "execution": {
     "iopub.execute_input": "2025-01-18T15:12:55.888782Z",
     "iopub.status.busy": "2025-01-18T15:12:55.888485Z",
     "iopub.status.idle": "2025-01-18T15:12:55.968229Z",
     "shell.execute_reply": "2025-01-18T15:12:55.967235Z"
    },
    "papermill": {
     "duration": 0.085379,
     "end_time": "2025-01-18T15:12:55.970059",
     "exception": false,
     "start_time": "2025-01-18T15:12:55.884680",
     "status": "completed"
    },
    "tags": []
   },
   "outputs": [
    {
     "name": "stdout",
     "output_type": "stream",
     "text": [
      "Detected Emotion: sadness\n",
      "Mental Well-being Tip & Quote:\n",
      "It’s okay to feel sad sometimes; allow yourself to process these emotions and reach out if you need support. Talking with a friend or writing in a journal can help.\n",
      "Quote: “Tears are words that need to be written.” — Paulo Coelho\n"
     ]
    }
   ],
   "source": [
    "\n",
    "user_input = \"I am angry and irritated all the time.\"\n",
    "tokens = preprocess_tokens(user_input)\n",
    "vector_input = vectorize(tokens, model).reshape(1, -1)\n",
    "\n",
    "predicted_emotion_int = emotion_model.predict(vector_input)[0]\n",
    "\n",
    "\n",
    "predicted_emotion_label = int_to_emotion[predicted_emotion_int]\n",
    "\n",
    "print(\"Detected Emotion:\", predicted_emotion_label)\n",
    "print(\"Mental Well-being Tip & Quote:\")\n",
    "print(wellbeing_messages[predicted_emotion_label])"
   ]
  },
  {
   "cell_type": "code",
   "execution_count": 10,
   "id": "c291a93f",
   "metadata": {
    "execution": {
     "iopub.execute_input": "2025-01-18T15:12:55.978174Z",
     "iopub.status.busy": "2025-01-18T15:12:55.977812Z",
     "iopub.status.idle": "2025-01-18T15:12:56.010079Z",
     "shell.execute_reply": "2025-01-18T15:12:56.008846Z"
    },
    "papermill": {
     "duration": 0.038345,
     "end_time": "2025-01-18T15:12:56.011958",
     "exception": false,
     "start_time": "2025-01-18T15:12:55.973613",
     "status": "completed"
    },
    "tags": []
   },
   "outputs": [
    {
     "name": "stdout",
     "output_type": "stream",
     "text": [
      "Suicide Risk: Low\n",
      "If you ever feel like you need support, consider talking to a trusted friend, family member, or professional.\n"
     ]
    }
   ],
   "source": [
    "risk_prediction = suicide_model.predict(vector_input)[0]\n",
    "\n",
    "if risk_prediction == 1:\n",
    "    print(\"Suicide Risk: High\")\n",
    "    print(\"If you are in crisis, please reach out to a trusted friend, family member, or a professional.\")\n",
    "    print(\"You can also reach these trustworthy helplines:\")\n",
    "    print(\"• AASRA Helpline: +91-22-2754-6669\")\n",
    "    print(\"• Sneha Helpline (Chennai): +91-44-2464-0050\")\n",
    "    print(\"• Kiran Mental Health Helpline: 1800-599-0019 (Toll-Free)\")\n",
    "else:\n",
    "    print(\"Suicide Risk: Low\")\n",
    "    print(\"If you ever feel like you need support, consider talking to a trusted friend, family member, or professional.\")\n"
   ]
  },
  {
   "cell_type": "code",
   "execution_count": null,
   "id": "60749ea0",
   "metadata": {
    "papermill": {
     "duration": 0.003144,
     "end_time": "2025-01-18T15:12:56.018745",
     "exception": false,
     "start_time": "2025-01-18T15:12:56.015601",
     "status": "completed"
    },
    "tags": []
   },
   "outputs": [],
   "source": []
  }
 ],
 "metadata": {
  "kaggle": {
   "accelerator": "none",
   "dataSources": [
    {
     "datasetId": 6484872,
     "sourceId": 10506492,
     "sourceType": "datasetVersion"
    },
    {
     "modelId": 222051,
     "modelInstanceId": 200229,
     "sourceId": 234411,
     "sourceType": "modelInstanceVersion"
    },
    {
     "modelId": 222051,
     "modelInstanceId": 200229,
     "sourceId": 235123,
     "sourceType": "modelInstanceVersion"
    },
    {
     "isSourceIdPinned": true,
     "modelId": 222051,
     "modelInstanceId": 200229,
     "sourceId": 235342,
     "sourceType": "modelInstanceVersion"
    }
   ],
   "dockerImageVersionId": 30839,
   "isGpuEnabled": false,
   "isInternetEnabled": true,
   "language": "python",
   "sourceType": "notebook"
  },
  "kernelspec": {
   "display_name": "Python 3",
   "language": "python",
   "name": "python3"
  },
  "language_info": {
   "codemirror_mode": {
    "name": "ipython",
    "version": 3
   },
   "file_extension": ".py",
   "mimetype": "text/x-python",
   "name": "python",
   "nbconvert_exporter": "python",
   "pygments_lexer": "ipython3",
   "version": "3.10.12"
  },
  "papermill": {
   "default_parameters": {},
   "duration": 92.063875,
   "end_time": "2025-01-18T15:12:58.741173",
   "environment_variables": {},
   "exception": null,
   "input_path": "__notebook__.ipynb",
   "output_path": "__notebook__.ipynb",
   "parameters": {},
   "start_time": "2025-01-18T15:11:26.677298",
   "version": "2.6.0"
  }
 },
 "nbformat": 4,
 "nbformat_minor": 5
}
